{
 "cells": [
  {
   "cell_type": "code",
   "execution_count": 36,
   "metadata": {},
   "outputs": [],
   "source": [
    "import email\n",
    "from email.policy import default\n",
    "from __future__ import print_function\n",
    "import base64\n",
    "\n",
    "import os.path\n",
    "\n",
    "from google.auth.transport.requests import Request\n",
    "from google.oauth2.credentials import Credentials\n",
    "from google_auth_oauthlib.flow import InstalledAppFlow\n",
    "from googleapiclient.discovery import build\n",
    "from googleapiclient.errors import HttpError\n",
    "\n",
    "pd.set_option(\"display.precision\", 2)\n",
    "%config InlineBackend.figure_format = 'retina'"
   ]
  },
  {
   "cell_type": "code",
   "execution_count": 62,
   "metadata": {},
   "outputs": [],
   "source": [
    "def setup():\n",
    "    \"\"\"\n",
    "    Configuration to authenticate with API\n",
    "    \"\"\"\n",
    "    creds = None\n",
    "    # The file token.json stores the user's access and refresh tokens, and is\n",
    "    # created automatically when the authorization flow completes for the first\n",
    "    # time.\n",
    "    if os.path.exists('token.json'):\n",
    "        creds = Credentials.from_authorized_user_file('token.json', SCOPES)\n",
    "    # If there are no (valid) credentials available, let the user log in.\n",
    "    if not creds or not creds.valid:\n",
    "        if creds and creds.expired and creds.refresh_token:\n",
    "            creds.refresh(Request())\n",
    "        else:\n",
    "            flow = InstalledAppFlow.from_client_secrets_file(\n",
    "                'credentials.json', SCOPES)\n",
    "            creds = flow.run_local_server(port=0)\n",
    "        # Save the credentials for the next run\n",
    "        with open('token.json', 'w') as token:\n",
    "            token.write(creds.to_json())\n",
    "            \n",
    "    return creds"
   ]
  },
  {
   "cell_type": "code",
   "execution_count": 38,
   "metadata": {},
   "outputs": [],
   "source": [
    "def get_labels(service, user_id='me'):\n",
    "    \"\"\"\n",
    "    Returns list of email labels\n",
    "\n",
    "    service: Resource instance for interacting with API\n",
    "    user_id: string identifyin the gmail target user\n",
    "    \"\"\"\n",
    "    results = service.users().labels().list(userId=user_id).execute()\n",
    "    labels = results.get('labels', [])\n",
    "    if not labels:\n",
    "        print('No labels found.')\n",
    "        return\n",
    "    return labels"
   ]
  },
  {
   "cell_type": "code",
   "execution_count": 39,
   "metadata": {},
   "outputs": [],
   "source": [
    "def list_messages(service, user_id='me', max_results=100):\n",
    "    \"\"\"\n",
    "    Returns a list of email messages in the shape of ids\n",
    "\n",
    "    service: Resource instance for interacting with API\n",
    "    user_id: string identifyin the gmail target user\n",
    "    \"\"\"\n",
    "    list_of_messages = service.users().messages().list(userId=user_id, includeSpamTrash=True, maxResults=max_results).execute()\n",
    "    return list_of_messages\n"
   ]
  },
  {
   "cell_type": "code",
   "execution_count": 40,
   "metadata": {},
   "outputs": [],
   "source": [
    "def get_message(service,  message_id, user_id='me', format='full'):\n",
    "    \"\"\"\n",
    "    Gets a particular message/email's data by id\n",
    "\n",
    "    service: Resource instance for interacting with API\n",
    "    message_id: Unique message identifier. \n",
    "    user_id: String identifyin the gmail target user\n",
    "    format: Specifies scope of contents in the returned message\n",
    "    \"\"\"\n",
    "    e_mail = service.users().messages().get(userId=user_id, id=message_id, format='full').execute()\n",
    "    return e_mail"
   ]
  },
  {
   "cell_type": "code",
   "execution_count": 59,
   "metadata": {},
   "outputs": [],
   "source": [
    "def decode_message(data):\n",
    "    \"\"\"\n",
    "    Decodes a base64 data message\n",
    "\n",
    "    data: encoded data string\n",
    "    \"\"\"\n",
    "    decoded_bytes = base64.b64decode(data)\n",
    "    decoded_str = str(decoded_bytes, \"utf-8\")\n",
    "    return decoded_str"
   ]
  },
  {
   "cell_type": "code",
   "execution_count": 60,
   "metadata": {},
   "outputs": [],
   "source": [
    "# If modifying these scopes, delete the file token.json.\n",
    "SCOPES = ['https://www.googleapis.com/auth/gmail.readonly']\n",
    "\n",
    "\n",
    "def main():\n",
    "    \"\"\"Shows basic usage of the Gmail API.\n",
    "    Lists the user's Gmail labels.\n",
    "    \"\"\"\n",
    "    creds = setup()\n",
    "\n",
    "    try:\n",
    "        # Call the Gmail API\n",
    "        service = build('gmail', 'v1', credentials=creds)\n",
    "        \n",
    "        ## get labels \n",
    "        \n",
    "\n",
    "        # get list of messages\n",
    "        \n",
    "        \n",
    "        \n",
    "        # print a particular message (email), iterate over the set of returned messages\n",
    "        # focus on those messages that contain interesting labels (inbox and spam maybe?)\n",
    "        # for the subset of messages, get the plain text part of it\n",
    "        # decode the message\n",
    "\n",
    "\n",
    "    except HttpError as error:\n",
    "        # TODO(developer) - Handle errors from gmail API.\n",
    "        print(f'An error occurred: {error}')\n"
   ]
  },
  {
   "cell_type": "code",
   "execution_count": null,
   "metadata": {},
   "outputs": [],
   "source": [
    "main()"
   ]
  }
 ],
 "metadata": {
  "interpreter": {
   "hash": "374a0045d68a2cd5f3fe8f1a55f35fda77ca0cb8c2d65f84e0492a51b74034f0"
  },
  "kernelspec": {
   "display_name": "Python 3.8.6 64-bit (system)",
   "language": "python",
   "name": "python3"
  },
  "language_info": {
   "codemirror_mode": {
    "name": "ipython",
    "version": 3
   },
   "file_extension": ".py",
   "mimetype": "text/x-python",
   "name": "python",
   "nbconvert_exporter": "python",
   "pygments_lexer": "ipython3",
   "version": "3.9.10"
  },
  "orig_nbformat": 4
 },
 "nbformat": 4,
 "nbformat_minor": 2
}
